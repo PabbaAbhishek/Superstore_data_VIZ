{
 "cells": [
  {
   "cell_type": "code",
   "execution_count": 1,
   "metadata": {},
   "outputs": [],
   "source": [
    "import pandas as pd\n",
    "import numpy as np\n",
    "import matplotlib.pyplot as plt\n",
    "import seaborn as sns"
   ]
  },
  {
   "cell_type": "code",
   "execution_count": 2,
   "metadata": {},
   "outputs": [],
   "source": [
    "df=pd.read_csv(r\"C:\\Users\\Pabba Abhishek\\Desktop\\GRIP\\SampleSuperstore-ML.csv\")"
   ]
  },
  {
   "cell_type": "code",
   "execution_count": 3,
   "metadata": {},
   "outputs": [
    {
     "data": {
      "text/html": [
       "<div>\n",
       "<style scoped>\n",
       "    .dataframe tbody tr th:only-of-type {\n",
       "        vertical-align: middle;\n",
       "    }\n",
       "\n",
       "    .dataframe tbody tr th {\n",
       "        vertical-align: top;\n",
       "    }\n",
       "\n",
       "    .dataframe thead th {\n",
       "        text-align: right;\n",
       "    }\n",
       "</style>\n",
       "<table border=\"1\" class=\"dataframe\">\n",
       "  <thead>\n",
       "    <tr style=\"text-align: right;\">\n",
       "      <th></th>\n",
       "      <th>Ship Mode</th>\n",
       "      <th>Segment</th>\n",
       "      <th>Postal Code</th>\n",
       "      <th>Region</th>\n",
       "      <th>Sub-Category</th>\n",
       "      <th>Sales</th>\n",
       "      <th>Quantity</th>\n",
       "      <th>Discount</th>\n",
       "      <th>Profit per sale</th>\n",
       "    </tr>\n",
       "  </thead>\n",
       "  <tbody>\n",
       "    <tr>\n",
       "      <th>0</th>\n",
       "      <td>0</td>\n",
       "      <td>1</td>\n",
       "      <td>60610</td>\n",
       "      <td>1</td>\n",
       "      <td>2</td>\n",
       "      <td>143.128</td>\n",
       "      <td>2</td>\n",
       "      <td>0.8</td>\n",
       "      <td>-2.8</td>\n",
       "    </tr>\n",
       "    <tr>\n",
       "      <th>1</th>\n",
       "      <td>0</td>\n",
       "      <td>1</td>\n",
       "      <td>75701</td>\n",
       "      <td>1</td>\n",
       "      <td>2</td>\n",
       "      <td>2.688</td>\n",
       "      <td>3</td>\n",
       "      <td>0.8</td>\n",
       "      <td>-2.7</td>\n",
       "    </tr>\n",
       "    <tr>\n",
       "      <th>2</th>\n",
       "      <td>0</td>\n",
       "      <td>2</td>\n",
       "      <td>76106</td>\n",
       "      <td>1</td>\n",
       "      <td>2</td>\n",
       "      <td>24.588</td>\n",
       "      <td>3</td>\n",
       "      <td>0.8</td>\n",
       "      <td>-2.8</td>\n",
       "    </tr>\n",
       "    <tr>\n",
       "      <th>3</th>\n",
       "      <td>0</td>\n",
       "      <td>2</td>\n",
       "      <td>77506</td>\n",
       "      <td>1</td>\n",
       "      <td>2</td>\n",
       "      <td>1.624</td>\n",
       "      <td>2</td>\n",
       "      <td>0.8</td>\n",
       "      <td>-2.5</td>\n",
       "    </tr>\n",
       "    <tr>\n",
       "      <th>4</th>\n",
       "      <td>1</td>\n",
       "      <td>1</td>\n",
       "      <td>79605</td>\n",
       "      <td>1</td>\n",
       "      <td>2</td>\n",
       "      <td>1.392</td>\n",
       "      <td>2</td>\n",
       "      <td>0.8</td>\n",
       "      <td>-2.9</td>\n",
       "    </tr>\n",
       "  </tbody>\n",
       "</table>\n",
       "</div>"
      ],
      "text/plain": [
       "   Ship Mode  Segment  Postal Code  Region  Sub-Category    Sales  Quantity  \\\n",
       "0          0        1        60610       1             2  143.128         2   \n",
       "1          0        1        75701       1             2    2.688         3   \n",
       "2          0        2        76106       1             2   24.588         3   \n",
       "3          0        2        77506       1             2    1.624         2   \n",
       "4          1        1        79605       1             2    1.392         2   \n",
       "\n",
       "   Discount  Profit per sale  \n",
       "0       0.8             -2.8  \n",
       "1       0.8             -2.7  \n",
       "2       0.8             -2.8  \n",
       "3       0.8             -2.5  \n",
       "4       0.8             -2.9  "
      ]
     },
     "execution_count": 3,
     "metadata": {},
     "output_type": "execute_result"
    }
   ],
   "source": [
    "df.head()"
   ]
  },
  {
   "cell_type": "code",
   "execution_count": 4,
   "metadata": {},
   "outputs": [
    {
     "data": {
      "text/plain": [
       "<matplotlib.collections.PathCollection at 0x1a0cba27d30>"
      ]
     },
     "execution_count": 4,
     "metadata": {},
     "output_type": "execute_result"
    },
    {
     "data": {
      "image/png": "[encoded data removed]",
      "text/plain": [
       "<Figure size 432x288 with 1 Axes>"
      ]
     },
     "metadata": {},
     "output_type": "display_data"
    }
   ],
   "source": [
    "plt.style.use('dark_background')\n",
    "plt.scatter(df['Discount'],df['Profit per sale'])"
   ]
  },
  {
   "cell_type": "code",
   "execution_count": 5,
   "metadata": {},
   "outputs": [
    {
     "data": {
      "text/plain": [
       "Index(['Ship Mode', 'Segment', 'Postal Code', 'Region', 'Sub-Category',\n",
       "       'Sales', 'Quantity', 'Discount', 'Profit per sale'],\n",
       "      dtype='object')"
      ]
     },
     "execution_count": 5,
     "metadata": {},
     "output_type": "execute_result"
    }
   ],
   "source": [
    "df.columns"
   ]
  },
  {
   "cell_type": "code",
   "execution_count": 6,
   "metadata": {},
   "outputs": [],
   "source": [
    "x = df.iloc[:,:-1].values\n",
    "y = df.iloc[:,-1].values"
   ]
  },
  {
   "cell_type": "code",
   "execution_count": 7,
   "metadata": {},
   "outputs": [
    {
     "data": {
      "text/plain": [
       "array([[0.00000e+00, 1.00000e+00, 6.06100e+04, ..., 1.43128e+02,\n",
       "        2.00000e+00, 8.00000e-01],\n",
       "       [0.00000e+00, 1.00000e+00, 7.57010e+04, ..., 2.68800e+00,\n",
       "        3.00000e+00, 8.00000e-01],\n",
       "       [0.00000e+00, 2.00000e+00, 7.61060e+04, ..., 2.45880e+01,\n",
       "        3.00000e+00, 8.00000e-01],\n",
       "       ...,\n",
       "       [0.00000e+00, 3.00000e+00, 9.37270e+04, ..., 1.19400e+01,\n",
       "        3.00000e+00, 0.00000e+00],\n",
       "       [0.00000e+00, 3.00000e+00, 9.41100e+04, ..., 1.95760e+02,\n",
       "        4.00000e+00, 0.00000e+00],\n",
       "       [0.00000e+00, 3.00000e+00, 9.41220e+04, ..., 5.00400e+01,\n",
       "        6.00000e+00, 0.00000e+00]])"
      ]
     },
     "execution_count": 7,
     "metadata": {},
     "output_type": "execute_result"
    }
   ],
   "source": [
    "x"
   ]
  },
  {
   "cell_type": "code",
   "execution_count": 8,
   "metadata": {},
   "outputs": [
    {
     "data": {
      "text/plain": [
       "array([-2.8, -2.7, -2.8, ...,  0.6,  0.6,  0.5])"
      ]
     },
     "execution_count": 8,
     "metadata": {},
     "output_type": "execute_result"
    }
   ],
   "source": [
    "y"
   ]
  },
  {
   "cell_type": "code",
   "execution_count": 9,
   "metadata": {},
   "outputs": [],
   "source": [
    "from sklearn.model_selection import train_test_split\n",
    "x_train,x_test,y_train,y_test=train_test_split(x,y,test_size=0.15,random_state=1940)"
   ]
  },
  {
   "cell_type": "code",
   "execution_count": 10,
   "metadata": {},
   "outputs": [
    {
     "data": {
      "text/plain": [
       "RandomForestRegressor(random_state=0)"
      ]
     },
     "execution_count": 10,
     "metadata": {},
     "output_type": "execute_result"
    }
   ],
   "source": [
    "from sklearn.ensemble import RandomForestRegressor\n",
    "regr = RandomForestRegressor(random_state=0)\n",
    "regr.fit(x, y)"
   ]
  },
  {
   "cell_type": "code",
   "execution_count": 11,
   "metadata": {},
   "outputs": [
    {
     "data": {
      "text/plain": [
       "0.99112172237077"
      ]
     },
     "execution_count": 11,
     "metadata": {},
     "output_type": "execute_result"
    }
   ],
   "source": [
    "regr.score(x_test,y_test)"
   ]
  },
  {
   "cell_type": "code",
   "execution_count": 12,
   "metadata": {},
   "outputs": [],
   "source": [
    "forecast=pd.read_csv(r\"C:\\Users\\Pabba Abhishek\\Desktop\\GRIP\\SampleSuperstore-ML-Forecast.csv\")"
   ]
  },
  {
   "cell_type": "code",
   "execution_count": 13,
   "metadata": {},
   "outputs": [
    {
     "data": {
      "text/html": [
       "<div>\n",
       "<style scoped>\n",
       "    .dataframe tbody tr th:only-of-type {\n",
       "        vertical-align: middle;\n",
       "    }\n",
       "\n",
       "    .dataframe tbody tr th {\n",
       "        vertical-align: top;\n",
       "    }\n",
       "\n",
       "    .dataframe thead th {\n",
       "        text-align: right;\n",
       "    }\n",
       "</style>\n",
       "<table border=\"1\" class=\"dataframe\">\n",
       "  <thead>\n",
       "    <tr style=\"text-align: right;\">\n",
       "      <th></th>\n",
       "      <th>Ship Mode</th>\n",
       "      <th>Segment</th>\n",
       "      <th>Postal Code</th>\n",
       "      <th>Region</th>\n",
       "      <th>Sub-Category</th>\n",
       "      <th>Sales</th>\n",
       "      <th>Quantity</th>\n",
       "      <th>Discount</th>\n",
       "    </tr>\n",
       "  </thead>\n",
       "  <tbody>\n",
       "    <tr>\n",
       "      <th>0</th>\n",
       "      <td>0</td>\n",
       "      <td>1</td>\n",
       "      <td>60610</td>\n",
       "      <td>1</td>\n",
       "      <td>2</td>\n",
       "      <td>143.128</td>\n",
       "      <td>2</td>\n",
       "      <td>0</td>\n",
       "    </tr>\n",
       "    <tr>\n",
       "      <th>1</th>\n",
       "      <td>0</td>\n",
       "      <td>1</td>\n",
       "      <td>75701</td>\n",
       "      <td>1</td>\n",
       "      <td>2</td>\n",
       "      <td>2.688</td>\n",
       "      <td>3</td>\n",
       "      <td>0</td>\n",
       "    </tr>\n",
       "    <tr>\n",
       "      <th>2</th>\n",
       "      <td>0</td>\n",
       "      <td>2</td>\n",
       "      <td>76106</td>\n",
       "      <td>1</td>\n",
       "      <td>2</td>\n",
       "      <td>24.588</td>\n",
       "      <td>3</td>\n",
       "      <td>0</td>\n",
       "    </tr>\n",
       "    <tr>\n",
       "      <th>3</th>\n",
       "      <td>0</td>\n",
       "      <td>2</td>\n",
       "      <td>77506</td>\n",
       "      <td>1</td>\n",
       "      <td>2</td>\n",
       "      <td>1.624</td>\n",
       "      <td>2</td>\n",
       "      <td>0</td>\n",
       "    </tr>\n",
       "    <tr>\n",
       "      <th>4</th>\n",
       "      <td>1</td>\n",
       "      <td>1</td>\n",
       "      <td>79605</td>\n",
       "      <td>1</td>\n",
       "      <td>2</td>\n",
       "      <td>1.392</td>\n",
       "      <td>2</td>\n",
       "      <td>0</td>\n",
       "    </tr>\n",
       "    <tr>\n",
       "      <th>...</th>\n",
       "      <td>...</td>\n",
       "      <td>...</td>\n",
       "      <td>...</td>\n",
       "      <td>...</td>\n",
       "      <td>...</td>\n",
       "      <td>...</td>\n",
       "      <td>...</td>\n",
       "      <td>...</td>\n",
       "    </tr>\n",
       "    <tr>\n",
       "      <th>9989</th>\n",
       "      <td>0</td>\n",
       "      <td>3</td>\n",
       "      <td>90045</td>\n",
       "      <td>4</td>\n",
       "      <td>13</td>\n",
       "      <td>146.820</td>\n",
       "      <td>3</td>\n",
       "      <td>0</td>\n",
       "    </tr>\n",
       "    <tr>\n",
       "      <th>9990</th>\n",
       "      <td>0</td>\n",
       "      <td>3</td>\n",
       "      <td>90049</td>\n",
       "      <td>4</td>\n",
       "      <td>11</td>\n",
       "      <td>44.400</td>\n",
       "      <td>3</td>\n",
       "      <td>0</td>\n",
       "    </tr>\n",
       "    <tr>\n",
       "      <th>9991</th>\n",
       "      <td>0</td>\n",
       "      <td>3</td>\n",
       "      <td>93727</td>\n",
       "      <td>4</td>\n",
       "      <td>13</td>\n",
       "      <td>11.940</td>\n",
       "      <td>3</td>\n",
       "      <td>0</td>\n",
       "    </tr>\n",
       "    <tr>\n",
       "      <th>9992</th>\n",
       "      <td>0</td>\n",
       "      <td>3</td>\n",
       "      <td>94110</td>\n",
       "      <td>4</td>\n",
       "      <td>13</td>\n",
       "      <td>195.760</td>\n",
       "      <td>4</td>\n",
       "      <td>0</td>\n",
       "    </tr>\n",
       "    <tr>\n",
       "      <th>9993</th>\n",
       "      <td>0</td>\n",
       "      <td>3</td>\n",
       "      <td>94122</td>\n",
       "      <td>4</td>\n",
       "      <td>13</td>\n",
       "      <td>50.040</td>\n",
       "      <td>6</td>\n",
       "      <td>0</td>\n",
       "    </tr>\n",
       "  </tbody>\n",
       "</table>\n",
       "<p>9994 rows × 8 columns</p>\n",
       "</div>"
      ],
      "text/plain": [
       "      Ship Mode  Segment  Postal Code  Region  Sub-Category    Sales  \\\n",
       "0             0        1        60610       1             2  143.128   \n",
       "1             0        1        75701       1             2    2.688   \n",
       "2             0        2        76106       1             2   24.588   \n",
       "3             0        2        77506       1             2    1.624   \n",
       "4             1        1        79605       1             2    1.392   \n",
       "...         ...      ...          ...     ...           ...      ...   \n",
       "9989          0        3        90045       4            13  146.820   \n",
       "9990          0        3        90049       4            11   44.400   \n",
       "9991          0        3        93727       4            13   11.940   \n",
       "9992          0        3        94110       4            13  195.760   \n",
       "9993          0        3        94122       4            13   50.040   \n",
       "\n",
       "      Quantity  Discount  \n",
       "0            2         0  \n",
       "1            3         0  \n",
       "2            3         0  \n",
       "3            2         0  \n",
       "4            2         0  \n",
       "...        ...       ...  \n",
       "9989         3         0  \n",
       "9990         3         0  \n",
       "9991         3         0  \n",
       "9992         4         0  \n",
       "9993         6         0  \n",
       "\n",
       "[9994 rows x 8 columns]"
      ]
     },
     "execution_count": 13,
     "metadata": {},
     "output_type": "execute_result"
    }
   ],
   "source": [
    "forecast"
   ]
  },
  {
   "cell_type": "code",
   "execution_count": 14,
   "metadata": {},
   "outputs": [
    {
     "data": {
      "text/plain": [
       "array([0.367, 0.429, 0.328, ..., 0.588, 0.569, 0.501])"
      ]
     },
     "execution_count": 14,
     "metadata": {},
     "output_type": "execute_result"
    }
   ],
   "source": [
    "y_pred = regr.predict(forecast)\n",
    "y_pred"
   ]
  },
  {
   "cell_type": "code",
   "execution_count": 15,
   "metadata": {},
   "outputs": [],
   "source": [
    "forecast['Profit per sale']=y_pred"
   ]
  },
  {
   "cell_type": "code",
   "execution_count": 16,
   "metadata": {},
   "outputs": [
    {
     "data": {
      "text/html": [
       "<div>\n",
       "<style scoped>\n",
       "    .dataframe tbody tr th:only-of-type {\n",
       "        vertical-align: middle;\n",
       "    }\n",
       "\n",
       "    .dataframe tbody tr th {\n",
       "        vertical-align: top;\n",
       "    }\n",
       "\n",
       "    .dataframe thead th {\n",
       "        text-align: right;\n",
       "    }\n",
       "</style>\n",
       "<table border=\"1\" class=\"dataframe\">\n",
       "  <thead>\n",
       "    <tr style=\"text-align: right;\">\n",
       "      <th></th>\n",
       "      <th>Ship Mode</th>\n",
       "      <th>Segment</th>\n",
       "      <th>Postal Code</th>\n",
       "      <th>Region</th>\n",
       "      <th>Sub-Category</th>\n",
       "      <th>Sales</th>\n",
       "      <th>Quantity</th>\n",
       "      <th>Discount</th>\n",
       "      <th>Profit per sale</th>\n",
       "    </tr>\n",
       "  </thead>\n",
       "  <tbody>\n",
       "    <tr>\n",
       "      <th>0</th>\n",
       "      <td>0</td>\n",
       "      <td>1</td>\n",
       "      <td>60610</td>\n",
       "      <td>1</td>\n",
       "      <td>2</td>\n",
       "      <td>143.128</td>\n",
       "      <td>2</td>\n",
       "      <td>0</td>\n",
       "      <td>0.367</td>\n",
       "    </tr>\n",
       "    <tr>\n",
       "      <th>1</th>\n",
       "      <td>0</td>\n",
       "      <td>1</td>\n",
       "      <td>75701</td>\n",
       "      <td>1</td>\n",
       "      <td>2</td>\n",
       "      <td>2.688</td>\n",
       "      <td>3</td>\n",
       "      <td>0</td>\n",
       "      <td>0.429</td>\n",
       "    </tr>\n",
       "    <tr>\n",
       "      <th>2</th>\n",
       "      <td>0</td>\n",
       "      <td>2</td>\n",
       "      <td>76106</td>\n",
       "      <td>1</td>\n",
       "      <td>2</td>\n",
       "      <td>24.588</td>\n",
       "      <td>3</td>\n",
       "      <td>0</td>\n",
       "      <td>0.328</td>\n",
       "    </tr>\n",
       "    <tr>\n",
       "      <th>3</th>\n",
       "      <td>0</td>\n",
       "      <td>2</td>\n",
       "      <td>77506</td>\n",
       "      <td>1</td>\n",
       "      <td>2</td>\n",
       "      <td>1.624</td>\n",
       "      <td>2</td>\n",
       "      <td>0</td>\n",
       "      <td>0.494</td>\n",
       "    </tr>\n",
       "    <tr>\n",
       "      <th>4</th>\n",
       "      <td>1</td>\n",
       "      <td>1</td>\n",
       "      <td>79605</td>\n",
       "      <td>1</td>\n",
       "      <td>2</td>\n",
       "      <td>1.392</td>\n",
       "      <td>2</td>\n",
       "      <td>0</td>\n",
       "      <td>0.459</td>\n",
       "    </tr>\n",
       "    <tr>\n",
       "      <th>...</th>\n",
       "      <td>...</td>\n",
       "      <td>...</td>\n",
       "      <td>...</td>\n",
       "      <td>...</td>\n",
       "      <td>...</td>\n",
       "      <td>...</td>\n",
       "      <td>...</td>\n",
       "      <td>...</td>\n",
       "      <td>...</td>\n",
       "    </tr>\n",
       "    <tr>\n",
       "      <th>9989</th>\n",
       "      <td>0</td>\n",
       "      <td>3</td>\n",
       "      <td>90045</td>\n",
       "      <td>4</td>\n",
       "      <td>13</td>\n",
       "      <td>146.820</td>\n",
       "      <td>3</td>\n",
       "      <td>0</td>\n",
       "      <td>0.500</td>\n",
       "    </tr>\n",
       "    <tr>\n",
       "      <th>9990</th>\n",
       "      <td>0</td>\n",
       "      <td>3</td>\n",
       "      <td>90049</td>\n",
       "      <td>4</td>\n",
       "      <td>11</td>\n",
       "      <td>44.400</td>\n",
       "      <td>3</td>\n",
       "      <td>0</td>\n",
       "      <td>0.502</td>\n",
       "    </tr>\n",
       "    <tr>\n",
       "      <th>9991</th>\n",
       "      <td>0</td>\n",
       "      <td>3</td>\n",
       "      <td>93727</td>\n",
       "      <td>4</td>\n",
       "      <td>13</td>\n",
       "      <td>11.940</td>\n",
       "      <td>3</td>\n",
       "      <td>0</td>\n",
       "      <td>0.588</td>\n",
       "    </tr>\n",
       "    <tr>\n",
       "      <th>9992</th>\n",
       "      <td>0</td>\n",
       "      <td>3</td>\n",
       "      <td>94110</td>\n",
       "      <td>4</td>\n",
       "      <td>13</td>\n",
       "      <td>195.760</td>\n",
       "      <td>4</td>\n",
       "      <td>0</td>\n",
       "      <td>0.569</td>\n",
       "    </tr>\n",
       "    <tr>\n",
       "      <th>9993</th>\n",
       "      <td>0</td>\n",
       "      <td>3</td>\n",
       "      <td>94122</td>\n",
       "      <td>4</td>\n",
       "      <td>13</td>\n",
       "      <td>50.040</td>\n",
       "      <td>6</td>\n",
       "      <td>0</td>\n",
       "      <td>0.501</td>\n",
       "    </tr>\n",
       "  </tbody>\n",
       "</table>\n",
       "<p>9994 rows × 9 columns</p>\n",
       "</div>"
      ],
      "text/plain": [
       "      Ship Mode  Segment  Postal Code  Region  Sub-Category    Sales  \\\n",
       "0             0        1        60610       1             2  143.128   \n",
       "1             0        1        75701       1             2    2.688   \n",
       "2             0        2        76106       1             2   24.588   \n",
       "3             0        2        77506       1             2    1.624   \n",
       "4             1        1        79605       1             2    1.392   \n",
       "...         ...      ...          ...     ...           ...      ...   \n",
       "9989          0        3        90045       4            13  146.820   \n",
       "9990          0        3        90049       4            11   44.400   \n",
       "9991          0        3        93727       4            13   11.940   \n",
       "9992          0        3        94110       4            13  195.760   \n",
       "9993          0        3        94122       4            13   50.040   \n",
       "\n",
       "      Quantity  Discount  Profit per sale  \n",
       "0            2         0            0.367  \n",
       "1            3         0            0.429  \n",
       "2            3         0            0.328  \n",
       "3            2         0            0.494  \n",
       "4            2         0            0.459  \n",
       "...        ...       ...              ...  \n",
       "9989         3         0            0.500  \n",
       "9990         3         0            0.502  \n",
       "9991         3         0            0.588  \n",
       "9992         4         0            0.569  \n",
       "9993         6         0            0.501  \n",
       "\n",
       "[9994 rows x 9 columns]"
      ]
     },
     "execution_count": 16,
     "metadata": {},
     "output_type": "execute_result"
    }
   ],
   "source": [
    "forecast"
   ]
  },
  {
   "cell_type": "code",
   "execution_count": 17,
   "metadata": {},
   "outputs": [],
   "source": [
    "forecast.to_csv(r\"C:\\Users\\Pabba Abhishek\\Desktop\\GRIP\\Forecast.csv\")"
   ]
  },
  {
   "cell_type": "code",
   "execution_count": null,
   "metadata": {},
   "outputs": [],
   "source": []
  }
 ],
 "metadata": {
  "kernelspec": {
   "display_name": "Python 3",
   "language": "python",
   "name": "python3"
  },
  "language_info": {
   "codemirror_mode": {
    "name": "ipython",
    "version": 3
   },
   "file_extension": ".py",
   "mimetype": "text/x-python",
   "name": "python",
   "nbconvert_exporter": "python",
   "pygments_lexer": "ipython3",
   "version": "3.8.5"
  }
 },
 "nbformat": 4,
 "nbformat_minor": 4
}
